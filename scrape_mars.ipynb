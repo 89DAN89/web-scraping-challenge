{
 "cells": [
  {
   "cell_type": "code",
   "execution_count": 2,
   "metadata": {},
   "outputs": [],
   "source": [
    "from bs4 import BeautifulSoup as bs\n",
    "from splinter import Browser\n",
    "import pandas as pd\n",
    "import os\n",
    "import warnings \n",
    "warnings.filterwarnings('ignore')\n",
    "\n",
    "mars_data = {}"
   ]
  },
  {
   "cell_type": "code",
   "execution_count": 11,
   "metadata": {},
   "outputs": [],
   "source": [
    "def chrome_driver():\n",
    "    executable_path = {'executable_path': 'chromedriver'}\n",
    "    return Browser('chrome', **executable_path, headless=False)\n"
   ]
  },
  {
   "cell_type": "code",
   "execution_count": 12,
   "metadata": {},
   "outputs": [],
   "source": [
    "def mars_news_scraper():\n",
    "    browser = chrome_driver()\n",
    "\n",
    "    url = 'https://mars.nasa.gov/news/'\n",
    "    browser.visit(url)\n",
    "\n",
    "    html = browser.html\n",
    "\n",
    "    soup = BeautifulSoup(html, 'lxml')\n",
    "\n",
    "    list_text = soup.find('div', class_='list_text')\n",
    "\n",
    "    news_title = list_text.find('div', class_='content_title').text\n",
    "\n",
    "    news_p = soup.find('div', class_='article_teaser_body').text\n",
    "\n",
    "    mars_data['News Title'] = news_title\n",
    "\n",
    "    mars_data['News Paragraph'] = news_p\n",
    "\n",
    "    return mars_data\n",
    "\n",
    "    browser.quit()\n",
    "\n"
   ]
  },
  {
   "cell_type": "code",
   "execution_count": 13,
   "metadata": {},
   "outputs": [],
   "source": [
    "def mars_image_scraper():\n",
    "    browser = chrome_driver()\n",
    "\n",
    "    url2 = 'https://www.jpl.nasa.gov/spaceimages/?search=&category=Mars'\n",
    "    browser.visit(url2)\n",
    "\n",
    "    html2 = browser.html\n",
    "\n",
    "    soup = BeautifulSoup(html2, 'lxml')\n",
    "\n",
    "    find_url = soup.find('div', class_ = 'carousel_items')\n",
    "\n",
    "    url_ending  = find_url.find('article')['style'].replace('background-image: url(','')\n",
    "    url_ending2 = url_ending.replace(');', '')[1:-1]\n",
    "\n",
    "    \n",
    "    url3 = \"https://www.jpl.nasa.gov\"\n",
    "\n",
    "    featured_image_url = url3 + url_ending2\n",
    "\n",
    "    featured_image_url\n",
    "\n",
    "    mars_data['Featured URL'] = featured_image_url\n",
    "\n",
    "    return mars_data\n",
    "\n",
    "    browser.quit()\n",
    "\n"
   ]
  },
  {
   "cell_type": "code",
   "execution_count": 14,
   "metadata": {},
   "outputs": [],
   "source": [
    "def mars_weather_scraper():\n",
    "\n",
    "    browser2 = chrome_driver()\n",
    "\n",
    "    executable_path = {'executable_path': 'chromedriver'}\n",
    "    browser2 = Browser('chrome', **executable_path, headless=False)\n",
    "\n",
    "    url4 = 'https://twitter.com/marswxreport?lang=en'\n",
    "    browser2.visit(url4)\n",
    "\n",
    "    html3 = browser2.html\n",
    "\n",
    "    soup = BeautifulSoup(html3, 'lxml')\n",
    "\n",
    "    weather_data = soup.find('div', class_='css-1dbjc4n').text\n",
    "\n",
    "    weather_data2 = weather_data.replace('Log inSign upSee new TweetsFollowMars Weather@MarsWxReportUpdates as avail from the REMS weather instrument aboard @MarsCuriosity.  Data credit: Centro deAstrobiologia, FMI, JPL/NASA, Not an official acct.Gale Crater, Marsmars.nasa.gov/news/8415/insi…Joined August 201251 Following57.2K FollowersTweetsTweets & repliesMediaLikesTweetsTweets & repliesMediaLikesMars Weather’s TweetsMars Weather@MarsWxReport·16h', '')\n",
    "\n",
    "    mars_weather= weather_data2.replace('412Mars Weather RetweetedSean Sublette@SeanSublette·May 4A little something from our @ClimateCentral office. #MayThe4thBeWithYou #ClimateChange0:23988 views1915Mars Weather@MarsWxReport·May 4InSight sol 510 (2020-05-03) low -93.0ºC (-135.5ºF) high -1.5ºC (29.2ºF)\\nwinds from the WNW at 4.5 m/s (10.2 mph) gusting to 16.0 m/s (35.9 mph)\\npressure at 6.80 hPa1715Mars Weather@MarsWxReport·May 4InSight sol 509 (2020-05-02) low -93.2ºC (-135.7ºF) high -2.2ºC (28.1ºF)\\nwinds from the SW at 5.1 m/s (11.5 mph) gusting to 17.9 m/s (40.0 mph)\\npressure at 6.80 hPa723Mars Weather@MarsWxReport·May 2On this day in 1982, the @weatherchannel  went on the air.1533', '')\n",
    "\n",
    "    mars_data['Mars Weather'] = mars_weather\n",
    "\n",
    "    return mars_data\n",
    "\n",
    "    browser.quit()\n",
    "\n",
    "\n"
   ]
  },
  {
   "cell_type": "code",
   "execution_count": 15,
   "metadata": {},
   "outputs": [],
   "source": [
    "def mars_facts_scraper():\n",
    "\n",
    "    browser = chrome_driver()\n",
    "\n",
    "    url15 = 'https://space-facts.com/mars/'\n",
    "\n",
    "    browser.visit(url5)\n",
    "\n",
    "    data = 'pd.read_html(url5)'\n",
    "\n",
    "    df = data[0]\n",
    "\n",
    "    df.rename(columns={'0': 'Parameter', '1': 'Value'}, inplace=True)\n",
    "\n",
    "    table_html = df.to_html()\n",
    "\n",
    "    table_html2 = table_html.replace('\\n', '')\n",
    "\n",
    "    mars_data['Mars Facts'] = table_html2\n",
    "\n",
    "    return mars_data\n",
    "\n",
    "    browser.quit()\n",
    "\n",
    "\n"
   ]
  },
  {
   "cell_type": "code",
   "execution_count": 16,
   "metadata": {},
   "outputs": [],
   "source": [
    "def mars_hemispheres_scraper():\n",
    "\n",
    "    browser3 = chrome_driver()\n",
    "\n",
    "    url5 = 'https://astrogeology.usgs.gov/search/results?q=hemisphere+enhanced&k1=target&v1=Mars'\n",
    "    browser3.visit(url5)\n",
    "\n",
    "    hrml4 = browser3.html\n",
    "\n",
    "    soup = BeautifulSoup(html4,'lxml')\n",
    "\n",
    "    objects = soup.find_all('div', class_='item')\n",
    "\n",
    "    img_url_ending = []\n",
    "    url6 ='https://astrogeology.usgs.gov'\n",
    "\n",
    "    for object in objects:\n",
    "        img_url_ending = object.find('a', class_='itemLink product-item')['href']\n",
    "        title=object.find('h3').text\n",
    "        img_url = url6 + img_url_ending\n",
    "        browser3.visit(img_url)\n",
    "        html5 = browser3.html\n",
    "        soup = BeautifulSoup(html5, 'lxml')\n",
    "        hemisphere_image_urls.append({\"title\" : title, \"img_url\" : img_url})\n",
    "\n",
    "    mars_data['Hemisphere Image UTLs'] = hemisphere_image_urls\n",
    "\n",
    "    return mars_data\n",
    "\n",
    "    browser.quit()"
   ]
  },
  {
   "cell_type": "code",
   "execution_count": 19,
   "metadata": {},
   "outputs": [],
   "source": [
    "import scrape_mars\n",
    "\n",
    "from flask_pymongo import PyMongo\n",
    "from flask import Flask, render_template, request"
   ]
  },
  {
   "cell_type": "code",
   "execution_count": 21,
   "metadata": {},
   "outputs": [],
   "source": [
    "app = Flask(__name__)\n",
    "\n",
    "app.config['MONGO_URI'] = \"mongodb://localhost:27017/mars_data\"\n",
    "mongo = PyMongo(app)"
   ]
  },
  {
   "cell_type": "code",
   "execution_count": 22,
   "metadata": {},
   "outputs": [],
   "source": [
    "@app.route(\"/\")\n",
    "def index():\n",
    "\n",
    "    # Find one record of data from the mongo database\n",
    "    mars_data = mongo.db.mars_data.find_one()\n",
    "\n",
    "    # Return template and data\n",
    "    return render_template(\"index.html\", mars_data=mars_data)"
   ]
  },
  {
   "cell_type": "code",
   "execution_count": 23,
   "metadata": {},
   "outputs": [
    {
     "name": "stdout",
     "output_type": "stream",
     "text": [
      " * Serving Flask app \"__main__\" (lazy loading)\n",
      " * Environment: production\n",
      "   WARNING: This is a development server. Do not use it in a production deployment.\n",
      "   Use a production WSGI server instead.\n",
      " * Debug mode: on\n"
     ]
    },
    {
     "name": "stderr",
     "output_type": "stream",
     "text": [
      " * Restarting with stat\n"
     ]
    },
    {
     "ename": "SystemExit",
     "evalue": "1",
     "output_type": "error",
     "traceback": [
      "An exception has occurred, use %tb to see the full traceback.\n",
      "\u001b[1;31mSystemExit\u001b[0m\u001b[1;31m:\u001b[0m 1\n"
     ]
    }
   ],
   "source": [
    "@app.route(\"/scrape\")\n",
    "def scrape():\n",
    "\n",
    "    # Run the scrape function\n",
    "    mars_data = scrape_mars.scrape()\n",
    "\n",
    "    # Update the Mongo database using update and upsert=True\n",
    "    mongo.db.mars_data.update({}, mars_data, upsert=True)\n",
    "    return 'Loaded'\n",
    "\n",
    "if __name__ == \"__main__\":\n",
    "    app.run(debug=True)"
   ]
  },
  {
   "cell_type": "code",
   "execution_count": 24,
   "metadata": {},
   "outputs": [
    {
     "data": {
      "text/plain": [
       "{}"
      ]
     },
     "execution_count": 24,
     "metadata": {},
     "output_type": "execute_result"
    }
   ],
   "source": [
    "mars_data"
   ]
  },
  {
   "cell_type": "code",
   "execution_count": null,
   "metadata": {},
   "outputs": [],
   "source": []
  }
 ],
 "metadata": {
  "kernelspec": {
   "display_name": "Python 3",
   "language": "python",
   "name": "python3"
  },
  "language_info": {
   "codemirror_mode": {
    "name": "ipython",
    "version": 3
   },
   "file_extension": ".py",
   "mimetype": "text/x-python",
   "name": "python",
   "nbconvert_exporter": "python",
   "pygments_lexer": "ipython3",
   "version": "3.6.10"
  }
 },
 "nbformat": 4,
 "nbformat_minor": 4
}
